{
  "cells": [
    {
      "cell_type": "markdown",
      "metadata": {
        "_uuid": "21c25e4f8bb31570029fd6b069131a5d00f84cf1",
        "id": "NqpzuPB3DQdc"
      },
      "source": [
        "# Домашнее задание 2 (5 баллов).\n",
        "\n",
        "Все задания ниже имеют равный вес (5/16)."
      ]
    },
    {
      "cell_type": "code",
      "execution_count": null,
      "metadata": {
        "_uuid": "568eb2d31004b87d22e119112ae01a1e75105f1d",
        "id": "Iemb9gclDQdh"
      },
      "outputs": [],
      "source": [
        "import pandas as pd\n",
        "import numpy as np\n"
      ]
    },
    {
      "cell_type": "markdown",
      "metadata": {
        "id": "hzj0DhsxDQdk"
      },
      "source": [
        "#### Описание данных\n",
        "\n",
        "В папке Data находится информация о студентах. Всего 10 групп студентов. Файлы делятся на две категории:\n",
        "    * Students_info_i - информация о студентах из группы i\n",
        "    * Students_marks_i - оценки студентов из группы i за экзамены"
      ]
    },
    {
      "cell_type": "markdown",
      "metadata": {
        "id": "BXiDn680DQdl"
      },
      "source": [
        "### Одно из важных достоинств pandas $-$ это удобные методы реляционного взаимодействия с данными, аналогичные, например, возможностям SQL для слияния и конкатенации таблиц: merge, join, concat. Наличие готовых методов позволяет не реализовывать самостоятельно поэлементную обработку данных и оперировать сразу целыми таблицами данных.\n",
        "\n",
        "Подробно об этих методах посмотрите тут: https://www.kaggle.com/residentmario/renaming-and-combining#Combining"
      ]
    },
    {
      "cell_type": "markdown",
      "metadata": {
        "id": "r9ERCOJSDQdm"
      },
      "source": [
        "#### Задание 1. Соберите всю информацию о студентах в одну таблицу df. В получившейся таблице должна быть информация и оценки всех студентов из всех групп. Напечатайте несколько строк таблицы для демонстрации результата.¶"
      ]
    },
    {
      "cell_type": "code",
      "source": [
        "df = pd.read_csv('Students_info_0.csv', sep=',')\n",
        "df1 = pd.read_csv('Students_marks_0.csv', sep=',')\n",
        "df = df.merge(df1, on=[\"index\"])\n"
      ],
      "metadata": {
        "id": "QITwfcoBQYrk"
      },
      "execution_count": null,
      "outputs": []
    },
    {
      "cell_type": "code",
      "execution_count": null,
      "metadata": {
        "colab": {
          "base_uri": "https://localhost:8080/",
          "height": 641
        },
        "id": "8Y4bM-tVDQdm",
        "outputId": "564d4bb5-65c8-45b8-baef-bad7d3af2325"
      },
      "outputs": [
        {
          "output_type": "execute_result",
          "data": {
            "text/plain": [
              "    index  gender race/ethnicity parental level of education         lunch  \\\n",
              "0       0  female        group B           bachelor's degree      standard   \n",
              "1       1  female        group C                some college      standard   \n",
              "2       2  female        group B             master's degree      standard   \n",
              "3       3    male        group A          associate's degree  free/reduced   \n",
              "4       4    male        group C                some college      standard   \n",
              "..    ...     ...            ...                         ...           ...   \n",
              "95    995  female        group E             master's degree      standard   \n",
              "96    996    male        group C                 high school  free/reduced   \n",
              "97    997  female        group C                 high school  free/reduced   \n",
              "98    998  female        group D                some college      standard   \n",
              "99    999  female        group D                some college  free/reduced   \n",
              "\n",
              "   test preparation course    group  math score  reading score  writing score  \n",
              "0                     none   group1          72             72             74  \n",
              "1                completed   group1          69             90             88  \n",
              "2                     none   group1          90             95             93  \n",
              "3                     none   group1          47             57             44  \n",
              "4                     none   group1          76             78             75  \n",
              "..                     ...      ...         ...            ...            ...  \n",
              "95               completed  group10          88             99             95  \n",
              "96                    none  group10          62             55             55  \n",
              "97               completed  group10          59             71             65  \n",
              "98               completed  group10          68             78             77  \n",
              "99                    none  group10          77             86             86  \n",
              "\n",
              "[1000 rows x 10 columns]"
            ],
            "text/html": [
              "\n",
              "  <div id=\"df-f6eb2ffe-4851-43a9-ae73-526fd3e6dc34\">\n",
              "    <div class=\"colab-df-container\">\n",
              "      <div>\n",
              "<style scoped>\n",
              "    .dataframe tbody tr th:only-of-type {\n",
              "        vertical-align: middle;\n",
              "    }\n",
              "\n",
              "    .dataframe tbody tr th {\n",
              "        vertical-align: top;\n",
              "    }\n",
              "\n",
              "    .dataframe thead th {\n",
              "        text-align: right;\n",
              "    }\n",
              "</style>\n",
              "<table border=\"1\" class=\"dataframe\">\n",
              "  <thead>\n",
              "    <tr style=\"text-align: right;\">\n",
              "      <th></th>\n",
              "      <th>index</th>\n",
              "      <th>gender</th>\n",
              "      <th>race/ethnicity</th>\n",
              "      <th>parental level of education</th>\n",
              "      <th>lunch</th>\n",
              "      <th>test preparation course</th>\n",
              "      <th>group</th>\n",
              "      <th>math score</th>\n",
              "      <th>reading score</th>\n",
              "      <th>writing score</th>\n",
              "    </tr>\n",
              "  </thead>\n",
              "  <tbody>\n",
              "    <tr>\n",
              "      <th>0</th>\n",
              "      <td>0</td>\n",
              "      <td>female</td>\n",
              "      <td>group B</td>\n",
              "      <td>bachelor's degree</td>\n",
              "      <td>standard</td>\n",
              "      <td>none</td>\n",
              "      <td>group1</td>\n",
              "      <td>72</td>\n",
              "      <td>72</td>\n",
              "      <td>74</td>\n",
              "    </tr>\n",
              "    <tr>\n",
              "      <th>1</th>\n",
              "      <td>1</td>\n",
              "      <td>female</td>\n",
              "      <td>group C</td>\n",
              "      <td>some college</td>\n",
              "      <td>standard</td>\n",
              "      <td>completed</td>\n",
              "      <td>group1</td>\n",
              "      <td>69</td>\n",
              "      <td>90</td>\n",
              "      <td>88</td>\n",
              "    </tr>\n",
              "    <tr>\n",
              "      <th>2</th>\n",
              "      <td>2</td>\n",
              "      <td>female</td>\n",
              "      <td>group B</td>\n",
              "      <td>master's degree</td>\n",
              "      <td>standard</td>\n",
              "      <td>none</td>\n",
              "      <td>group1</td>\n",
              "      <td>90</td>\n",
              "      <td>95</td>\n",
              "      <td>93</td>\n",
              "    </tr>\n",
              "    <tr>\n",
              "      <th>3</th>\n",
              "      <td>3</td>\n",
              "      <td>male</td>\n",
              "      <td>group A</td>\n",
              "      <td>associate's degree</td>\n",
              "      <td>free/reduced</td>\n",
              "      <td>none</td>\n",
              "      <td>group1</td>\n",
              "      <td>47</td>\n",
              "      <td>57</td>\n",
              "      <td>44</td>\n",
              "    </tr>\n",
              "    <tr>\n",
              "      <th>4</th>\n",
              "      <td>4</td>\n",
              "      <td>male</td>\n",
              "      <td>group C</td>\n",
              "      <td>some college</td>\n",
              "      <td>standard</td>\n",
              "      <td>none</td>\n",
              "      <td>group1</td>\n",
              "      <td>76</td>\n",
              "      <td>78</td>\n",
              "      <td>75</td>\n",
              "    </tr>\n",
              "    <tr>\n",
              "      <th>...</th>\n",
              "      <td>...</td>\n",
              "      <td>...</td>\n",
              "      <td>...</td>\n",
              "      <td>...</td>\n",
              "      <td>...</td>\n",
              "      <td>...</td>\n",
              "      <td>...</td>\n",
              "      <td>...</td>\n",
              "      <td>...</td>\n",
              "      <td>...</td>\n",
              "    </tr>\n",
              "    <tr>\n",
              "      <th>95</th>\n",
              "      <td>995</td>\n",
              "      <td>female</td>\n",
              "      <td>group E</td>\n",
              "      <td>master's degree</td>\n",
              "      <td>standard</td>\n",
              "      <td>completed</td>\n",
              "      <td>group10</td>\n",
              "      <td>88</td>\n",
              "      <td>99</td>\n",
              "      <td>95</td>\n",
              "    </tr>\n",
              "    <tr>\n",
              "      <th>96</th>\n",
              "      <td>996</td>\n",
              "      <td>male</td>\n",
              "      <td>group C</td>\n",
              "      <td>high school</td>\n",
              "      <td>free/reduced</td>\n",
              "      <td>none</td>\n",
              "      <td>group10</td>\n",
              "      <td>62</td>\n",
              "      <td>55</td>\n",
              "      <td>55</td>\n",
              "    </tr>\n",
              "    <tr>\n",
              "      <th>97</th>\n",
              "      <td>997</td>\n",
              "      <td>female</td>\n",
              "      <td>group C</td>\n",
              "      <td>high school</td>\n",
              "      <td>free/reduced</td>\n",
              "      <td>completed</td>\n",
              "      <td>group10</td>\n",
              "      <td>59</td>\n",
              "      <td>71</td>\n",
              "      <td>65</td>\n",
              "    </tr>\n",
              "    <tr>\n",
              "      <th>98</th>\n",
              "      <td>998</td>\n",
              "      <td>female</td>\n",
              "      <td>group D</td>\n",
              "      <td>some college</td>\n",
              "      <td>standard</td>\n",
              "      <td>completed</td>\n",
              "      <td>group10</td>\n",
              "      <td>68</td>\n",
              "      <td>78</td>\n",
              "      <td>77</td>\n",
              "    </tr>\n",
              "    <tr>\n",
              "      <th>99</th>\n",
              "      <td>999</td>\n",
              "      <td>female</td>\n",
              "      <td>group D</td>\n",
              "      <td>some college</td>\n",
              "      <td>free/reduced</td>\n",
              "      <td>none</td>\n",
              "      <td>group10</td>\n",
              "      <td>77</td>\n",
              "      <td>86</td>\n",
              "      <td>86</td>\n",
              "    </tr>\n",
              "  </tbody>\n",
              "</table>\n",
              "<p>1000 rows × 10 columns</p>\n",
              "</div>\n",
              "      <button class=\"colab-df-convert\" onclick=\"convertToInteractive('df-f6eb2ffe-4851-43a9-ae73-526fd3e6dc34')\"\n",
              "              title=\"Convert this dataframe to an interactive table.\"\n",
              "              style=\"display:none;\">\n",
              "        \n",
              "  <svg xmlns=\"http://www.w3.org/2000/svg\" height=\"24px\"viewBox=\"0 0 24 24\"\n",
              "       width=\"24px\">\n",
              "    <path d=\"M0 0h24v24H0V0z\" fill=\"none\"/>\n",
              "    <path d=\"M18.56 5.44l.94 2.06.94-2.06 2.06-.94-2.06-.94-.94-2.06-.94 2.06-2.06.94zm-11 1L8.5 8.5l.94-2.06 2.06-.94-2.06-.94L8.5 2.5l-.94 2.06-2.06.94zm10 10l.94 2.06.94-2.06 2.06-.94-2.06-.94-.94-2.06-.94 2.06-2.06.94z\"/><path d=\"M17.41 7.96l-1.37-1.37c-.4-.4-.92-.59-1.43-.59-.52 0-1.04.2-1.43.59L10.3 9.45l-7.72 7.72c-.78.78-.78 2.05 0 2.83L4 21.41c.39.39.9.59 1.41.59.51 0 1.02-.2 1.41-.59l7.78-7.78 2.81-2.81c.8-.78.8-2.07 0-2.86zM5.41 20L4 18.59l7.72-7.72 1.47 1.35L5.41 20z\"/>\n",
              "  </svg>\n",
              "      </button>\n",
              "      \n",
              "  <style>\n",
              "    .colab-df-container {\n",
              "      display:flex;\n",
              "      flex-wrap:wrap;\n",
              "      gap: 12px;\n",
              "    }\n",
              "\n",
              "    .colab-df-convert {\n",
              "      background-color: #E8F0FE;\n",
              "      border: none;\n",
              "      border-radius: 50%;\n",
              "      cursor: pointer;\n",
              "      display: none;\n",
              "      fill: #1967D2;\n",
              "      height: 32px;\n",
              "      padding: 0 0 0 0;\n",
              "      width: 32px;\n",
              "    }\n",
              "\n",
              "    .colab-df-convert:hover {\n",
              "      background-color: #E2EBFA;\n",
              "      box-shadow: 0px 1px 2px rgba(60, 64, 67, 0.3), 0px 1px 3px 1px rgba(60, 64, 67, 0.15);\n",
              "      fill: #174EA6;\n",
              "    }\n",
              "\n",
              "    [theme=dark] .colab-df-convert {\n",
              "      background-color: #3B4455;\n",
              "      fill: #D2E3FC;\n",
              "    }\n",
              "\n",
              "    [theme=dark] .colab-df-convert:hover {\n",
              "      background-color: #434B5C;\n",
              "      box-shadow: 0px 1px 3px 1px rgba(0, 0, 0, 0.15);\n",
              "      filter: drop-shadow(0px 1px 2px rgba(0, 0, 0, 0.3));\n",
              "      fill: #FFFFFF;\n",
              "    }\n",
              "  </style>\n",
              "\n",
              "      <script>\n",
              "        const buttonEl =\n",
              "          document.querySelector('#df-f6eb2ffe-4851-43a9-ae73-526fd3e6dc34 button.colab-df-convert');\n",
              "        buttonEl.style.display =\n",
              "          google.colab.kernel.accessAllowed ? 'block' : 'none';\n",
              "\n",
              "        async function convertToInteractive(key) {\n",
              "          const element = document.querySelector('#df-f6eb2ffe-4851-43a9-ae73-526fd3e6dc34');\n",
              "          const dataTable =\n",
              "            await google.colab.kernel.invokeFunction('convertToInteractive',\n",
              "                                                     [key], {});\n",
              "          if (!dataTable) return;\n",
              "\n",
              "          const docLinkHtml = 'Like what you see? Visit the ' +\n",
              "            '<a target=\"_blank\" href=https://colab.research.google.com/notebooks/data_table.ipynb>data table notebook</a>'\n",
              "            + ' to learn more about interactive tables.';\n",
              "          element.innerHTML = '';\n",
              "          dataTable['output_type'] = 'display_data';\n",
              "          await google.colab.output.renderOutput(dataTable, element);\n",
              "          const docLink = document.createElement('div');\n",
              "          docLink.innerHTML = docLinkHtml;\n",
              "          element.appendChild(docLink);\n",
              "        }\n",
              "      </script>\n",
              "    </div>\n",
              "  </div>\n",
              "  "
            ]
          },
          "metadata": {},
          "execution_count": 3
        }
      ],
      "source": [
        "for i in range(1, 10):\n",
        "  df1 = pd.read_csv('Students_info_' + str(i) + '.csv', sep=',')\n",
        "  df2 = pd.read_csv('Students_marks_' + str(i) + '.csv', sep=',')\n",
        "  df1 = df1.merge(df2, on=[\"index\"])\n",
        "  df = df.append(df1)\n",
        "df"
      ]
    },
    {
      "cell_type": "markdown",
      "metadata": {
        "_uuid": "8524af4cbd2f7b7810e8a3095a74c9fe1df7eafa",
        "id": "u8YzpHLSDQdn"
      },
      "source": [
        "#### Задание 2. Удалите столбец index у полученной таблицы. Напечатайте первые 10 строк таблицы."
      ]
    },
    {
      "cell_type": "code",
      "execution_count": null,
      "metadata": {
        "_uuid": "fe62eee87b9b94ab923f57b55eaf0554612aa9e9",
        "colab": {
          "base_uri": "https://localhost:8080/",
          "height": 493
        },
        "id": "oHV8I9b5DQdn",
        "outputId": "82659d93-42ab-4c45-8f30-678d79cca0f7"
      },
      "outputs": [
        {
          "output_type": "execute_result",
          "data": {
            "text/plain": [
              "   gender race/ethnicity parental level of education         lunch  \\\n",
              "0  female        group B           bachelor's degree      standard   \n",
              "1  female        group C                some college      standard   \n",
              "2  female        group B             master's degree      standard   \n",
              "3    male        group A          associate's degree  free/reduced   \n",
              "4    male        group C                some college      standard   \n",
              "5  female        group B          associate's degree      standard   \n",
              "6  female        group B                some college      standard   \n",
              "7    male        group B                some college  free/reduced   \n",
              "8    male        group D                 high school  free/reduced   \n",
              "9  female        group B                 high school  free/reduced   \n",
              "\n",
              "  test preparation course   group  math score  reading score  writing score  \n",
              "0                    none  group1          72             72             74  \n",
              "1               completed  group1          69             90             88  \n",
              "2                    none  group1          90             95             93  \n",
              "3                    none  group1          47             57             44  \n",
              "4                    none  group1          76             78             75  \n",
              "5                    none  group1          71             83             78  \n",
              "6               completed  group1          88             95             92  \n",
              "7                    none  group1          40             43             39  \n",
              "8               completed  group1          64             64             67  \n",
              "9                    none  group1          38             60             50  "
            ],
            "text/html": [
              "\n",
              "  <div id=\"df-17c650c2-5e0d-44da-aa28-1149a77d2f2d\">\n",
              "    <div class=\"colab-df-container\">\n",
              "      <div>\n",
              "<style scoped>\n",
              "    .dataframe tbody tr th:only-of-type {\n",
              "        vertical-align: middle;\n",
              "    }\n",
              "\n",
              "    .dataframe tbody tr th {\n",
              "        vertical-align: top;\n",
              "    }\n",
              "\n",
              "    .dataframe thead th {\n",
              "        text-align: right;\n",
              "    }\n",
              "</style>\n",
              "<table border=\"1\" class=\"dataframe\">\n",
              "  <thead>\n",
              "    <tr style=\"text-align: right;\">\n",
              "      <th></th>\n",
              "      <th>gender</th>\n",
              "      <th>race/ethnicity</th>\n",
              "      <th>parental level of education</th>\n",
              "      <th>lunch</th>\n",
              "      <th>test preparation course</th>\n",
              "      <th>group</th>\n",
              "      <th>math score</th>\n",
              "      <th>reading score</th>\n",
              "      <th>writing score</th>\n",
              "    </tr>\n",
              "  </thead>\n",
              "  <tbody>\n",
              "    <tr>\n",
              "      <th>0</th>\n",
              "      <td>female</td>\n",
              "      <td>group B</td>\n",
              "      <td>bachelor's degree</td>\n",
              "      <td>standard</td>\n",
              "      <td>none</td>\n",
              "      <td>group1</td>\n",
              "      <td>72</td>\n",
              "      <td>72</td>\n",
              "      <td>74</td>\n",
              "    </tr>\n",
              "    <tr>\n",
              "      <th>1</th>\n",
              "      <td>female</td>\n",
              "      <td>group C</td>\n",
              "      <td>some college</td>\n",
              "      <td>standard</td>\n",
              "      <td>completed</td>\n",
              "      <td>group1</td>\n",
              "      <td>69</td>\n",
              "      <td>90</td>\n",
              "      <td>88</td>\n",
              "    </tr>\n",
              "    <tr>\n",
              "      <th>2</th>\n",
              "      <td>female</td>\n",
              "      <td>group B</td>\n",
              "      <td>master's degree</td>\n",
              "      <td>standard</td>\n",
              "      <td>none</td>\n",
              "      <td>group1</td>\n",
              "      <td>90</td>\n",
              "      <td>95</td>\n",
              "      <td>93</td>\n",
              "    </tr>\n",
              "    <tr>\n",
              "      <th>3</th>\n",
              "      <td>male</td>\n",
              "      <td>group A</td>\n",
              "      <td>associate's degree</td>\n",
              "      <td>free/reduced</td>\n",
              "      <td>none</td>\n",
              "      <td>group1</td>\n",
              "      <td>47</td>\n",
              "      <td>57</td>\n",
              "      <td>44</td>\n",
              "    </tr>\n",
              "    <tr>\n",
              "      <th>4</th>\n",
              "      <td>male</td>\n",
              "      <td>group C</td>\n",
              "      <td>some college</td>\n",
              "      <td>standard</td>\n",
              "      <td>none</td>\n",
              "      <td>group1</td>\n",
              "      <td>76</td>\n",
              "      <td>78</td>\n",
              "      <td>75</td>\n",
              "    </tr>\n",
              "    <tr>\n",
              "      <th>5</th>\n",
              "      <td>female</td>\n",
              "      <td>group B</td>\n",
              "      <td>associate's degree</td>\n",
              "      <td>standard</td>\n",
              "      <td>none</td>\n",
              "      <td>group1</td>\n",
              "      <td>71</td>\n",
              "      <td>83</td>\n",
              "      <td>78</td>\n",
              "    </tr>\n",
              "    <tr>\n",
              "      <th>6</th>\n",
              "      <td>female</td>\n",
              "      <td>group B</td>\n",
              "      <td>some college</td>\n",
              "      <td>standard</td>\n",
              "      <td>completed</td>\n",
              "      <td>group1</td>\n",
              "      <td>88</td>\n",
              "      <td>95</td>\n",
              "      <td>92</td>\n",
              "    </tr>\n",
              "    <tr>\n",
              "      <th>7</th>\n",
              "      <td>male</td>\n",
              "      <td>group B</td>\n",
              "      <td>some college</td>\n",
              "      <td>free/reduced</td>\n",
              "      <td>none</td>\n",
              "      <td>group1</td>\n",
              "      <td>40</td>\n",
              "      <td>43</td>\n",
              "      <td>39</td>\n",
              "    </tr>\n",
              "    <tr>\n",
              "      <th>8</th>\n",
              "      <td>male</td>\n",
              "      <td>group D</td>\n",
              "      <td>high school</td>\n",
              "      <td>free/reduced</td>\n",
              "      <td>completed</td>\n",
              "      <td>group1</td>\n",
              "      <td>64</td>\n",
              "      <td>64</td>\n",
              "      <td>67</td>\n",
              "    </tr>\n",
              "    <tr>\n",
              "      <th>9</th>\n",
              "      <td>female</td>\n",
              "      <td>group B</td>\n",
              "      <td>high school</td>\n",
              "      <td>free/reduced</td>\n",
              "      <td>none</td>\n",
              "      <td>group1</td>\n",
              "      <td>38</td>\n",
              "      <td>60</td>\n",
              "      <td>50</td>\n",
              "    </tr>\n",
              "  </tbody>\n",
              "</table>\n",
              "</div>\n",
              "      <button class=\"colab-df-convert\" onclick=\"convertToInteractive('df-17c650c2-5e0d-44da-aa28-1149a77d2f2d')\"\n",
              "              title=\"Convert this dataframe to an interactive table.\"\n",
              "              style=\"display:none;\">\n",
              "        \n",
              "  <svg xmlns=\"http://www.w3.org/2000/svg\" height=\"24px\"viewBox=\"0 0 24 24\"\n",
              "       width=\"24px\">\n",
              "    <path d=\"M0 0h24v24H0V0z\" fill=\"none\"/>\n",
              "    <path d=\"M18.56 5.44l.94 2.06.94-2.06 2.06-.94-2.06-.94-.94-2.06-.94 2.06-2.06.94zm-11 1L8.5 8.5l.94-2.06 2.06-.94-2.06-.94L8.5 2.5l-.94 2.06-2.06.94zm10 10l.94 2.06.94-2.06 2.06-.94-2.06-.94-.94-2.06-.94 2.06-2.06.94z\"/><path d=\"M17.41 7.96l-1.37-1.37c-.4-.4-.92-.59-1.43-.59-.52 0-1.04.2-1.43.59L10.3 9.45l-7.72 7.72c-.78.78-.78 2.05 0 2.83L4 21.41c.39.39.9.59 1.41.59.51 0 1.02-.2 1.41-.59l7.78-7.78 2.81-2.81c.8-.78.8-2.07 0-2.86zM5.41 20L4 18.59l7.72-7.72 1.47 1.35L5.41 20z\"/>\n",
              "  </svg>\n",
              "      </button>\n",
              "      \n",
              "  <style>\n",
              "    .colab-df-container {\n",
              "      display:flex;\n",
              "      flex-wrap:wrap;\n",
              "      gap: 12px;\n",
              "    }\n",
              "\n",
              "    .colab-df-convert {\n",
              "      background-color: #E8F0FE;\n",
              "      border: none;\n",
              "      border-radius: 50%;\n",
              "      cursor: pointer;\n",
              "      display: none;\n",
              "      fill: #1967D2;\n",
              "      height: 32px;\n",
              "      padding: 0 0 0 0;\n",
              "      width: 32px;\n",
              "    }\n",
              "\n",
              "    .colab-df-convert:hover {\n",
              "      background-color: #E2EBFA;\n",
              "      box-shadow: 0px 1px 2px rgba(60, 64, 67, 0.3), 0px 1px 3px 1px rgba(60, 64, 67, 0.15);\n",
              "      fill: #174EA6;\n",
              "    }\n",
              "\n",
              "    [theme=dark] .colab-df-convert {\n",
              "      background-color: #3B4455;\n",
              "      fill: #D2E3FC;\n",
              "    }\n",
              "\n",
              "    [theme=dark] .colab-df-convert:hover {\n",
              "      background-color: #434B5C;\n",
              "      box-shadow: 0px 1px 3px 1px rgba(0, 0, 0, 0.15);\n",
              "      filter: drop-shadow(0px 1px 2px rgba(0, 0, 0, 0.3));\n",
              "      fill: #FFFFFF;\n",
              "    }\n",
              "  </style>\n",
              "\n",
              "      <script>\n",
              "        const buttonEl =\n",
              "          document.querySelector('#df-17c650c2-5e0d-44da-aa28-1149a77d2f2d button.colab-df-convert');\n",
              "        buttonEl.style.display =\n",
              "          google.colab.kernel.accessAllowed ? 'block' : 'none';\n",
              "\n",
              "        async function convertToInteractive(key) {\n",
              "          const element = document.querySelector('#df-17c650c2-5e0d-44da-aa28-1149a77d2f2d');\n",
              "          const dataTable =\n",
              "            await google.colab.kernel.invokeFunction('convertToInteractive',\n",
              "                                                     [key], {});\n",
              "          if (!dataTable) return;\n",
              "\n",
              "          const docLinkHtml = 'Like what you see? Visit the ' +\n",
              "            '<a target=\"_blank\" href=https://colab.research.google.com/notebooks/data_table.ipynb>data table notebook</a>'\n",
              "            + ' to learn more about interactive tables.';\n",
              "          element.innerHTML = '';\n",
              "          dataTable['output_type'] = 'display_data';\n",
              "          await google.colab.output.renderOutput(dataTable, element);\n",
              "          const docLink = document.createElement('div');\n",
              "          docLink.innerHTML = docLinkHtml;\n",
              "          element.appendChild(docLink);\n",
              "        }\n",
              "      </script>\n",
              "    </div>\n",
              "  </div>\n",
              "  "
            ]
          },
          "metadata": {},
          "execution_count": 4
        }
      ],
      "source": [
        "df = df.drop(columns='index')\n",
        "df.head(10)\n"
      ]
    },
    {
      "cell_type": "markdown",
      "metadata": {
        "_uuid": "5fcd622942b7ecfc318934c6a245d3bb3bf01e84",
        "id": "3sLgFwgeDQdo"
      },
      "source": [
        "#### Задание 3. Выведите на экран размеры полученной таблицы"
      ]
    },
    {
      "cell_type": "code",
      "execution_count": null,
      "metadata": {
        "_uuid": "16281cd7b4e941ebed8ca2e1b42f62f55d838684",
        "colab": {
          "base_uri": "https://localhost:8080/"
        },
        "id": "qdFz3jV2DQdo",
        "outputId": "5e979fe2-75f4-4892-ec3a-cd3685632212"
      },
      "outputs": [
        {
          "output_type": "execute_result",
          "data": {
            "text/plain": [
              "(1000, 9)"
            ]
          },
          "metadata": {},
          "execution_count": 5
        }
      ],
      "source": [
        "df.shape"
      ]
    },
    {
      "cell_type": "markdown",
      "metadata": {
        "_uuid": "fe8e3d58d29ca25dbbcf001392377643e6ff9a36",
        "id": "BpGK7Y0KDQdo"
      },
      "source": [
        "#### Задание 4. Выведите на экран статистические характеристики числовых столбцов таблицы (минимум, максимум, среднее значение, стандартное отклонение)"
      ]
    },
    {
      "cell_type": "code",
      "execution_count": null,
      "metadata": {
        "_uuid": "e3d4bb80d2c4251fe517c24fcf08c5ff2d67b8aa",
        "colab": {
          "base_uri": "https://localhost:8080/",
          "height": 300
        },
        "id": "3GWzbF7dDQdp",
        "outputId": "c9c6885c-96cc-4b3b-c188-bdb599eb82bb"
      },
      "outputs": [
        {
          "output_type": "execute_result",
          "data": {
            "text/plain": [
              "       math score  reading score  writing score\n",
              "count  1000.00000    1000.000000    1000.000000\n",
              "mean     66.08900      69.169000      68.054000\n",
              "std      15.16308      14.600192      15.195657\n",
              "min       0.00000      17.000000      10.000000\n",
              "25%      57.00000      59.000000      57.750000\n",
              "50%      66.00000      70.000000      69.000000\n",
              "75%      77.00000      79.000000      79.000000\n",
              "max     100.00000     100.000000     100.000000"
            ],
            "text/html": [
              "\n",
              "  <div id=\"df-c2fc1ea7-1a32-4a55-be07-9de420333db9\">\n",
              "    <div class=\"colab-df-container\">\n",
              "      <div>\n",
              "<style scoped>\n",
              "    .dataframe tbody tr th:only-of-type {\n",
              "        vertical-align: middle;\n",
              "    }\n",
              "\n",
              "    .dataframe tbody tr th {\n",
              "        vertical-align: top;\n",
              "    }\n",
              "\n",
              "    .dataframe thead th {\n",
              "        text-align: right;\n",
              "    }\n",
              "</style>\n",
              "<table border=\"1\" class=\"dataframe\">\n",
              "  <thead>\n",
              "    <tr style=\"text-align: right;\">\n",
              "      <th></th>\n",
              "      <th>math score</th>\n",
              "      <th>reading score</th>\n",
              "      <th>writing score</th>\n",
              "    </tr>\n",
              "  </thead>\n",
              "  <tbody>\n",
              "    <tr>\n",
              "      <th>count</th>\n",
              "      <td>1000.00000</td>\n",
              "      <td>1000.000000</td>\n",
              "      <td>1000.000000</td>\n",
              "    </tr>\n",
              "    <tr>\n",
              "      <th>mean</th>\n",
              "      <td>66.08900</td>\n",
              "      <td>69.169000</td>\n",
              "      <td>68.054000</td>\n",
              "    </tr>\n",
              "    <tr>\n",
              "      <th>std</th>\n",
              "      <td>15.16308</td>\n",
              "      <td>14.600192</td>\n",
              "      <td>15.195657</td>\n",
              "    </tr>\n",
              "    <tr>\n",
              "      <th>min</th>\n",
              "      <td>0.00000</td>\n",
              "      <td>17.000000</td>\n",
              "      <td>10.000000</td>\n",
              "    </tr>\n",
              "    <tr>\n",
              "      <th>25%</th>\n",
              "      <td>57.00000</td>\n",
              "      <td>59.000000</td>\n",
              "      <td>57.750000</td>\n",
              "    </tr>\n",
              "    <tr>\n",
              "      <th>50%</th>\n",
              "      <td>66.00000</td>\n",
              "      <td>70.000000</td>\n",
              "      <td>69.000000</td>\n",
              "    </tr>\n",
              "    <tr>\n",
              "      <th>75%</th>\n",
              "      <td>77.00000</td>\n",
              "      <td>79.000000</td>\n",
              "      <td>79.000000</td>\n",
              "    </tr>\n",
              "    <tr>\n",
              "      <th>max</th>\n",
              "      <td>100.00000</td>\n",
              "      <td>100.000000</td>\n",
              "      <td>100.000000</td>\n",
              "    </tr>\n",
              "  </tbody>\n",
              "</table>\n",
              "</div>\n",
              "      <button class=\"colab-df-convert\" onclick=\"convertToInteractive('df-c2fc1ea7-1a32-4a55-be07-9de420333db9')\"\n",
              "              title=\"Convert this dataframe to an interactive table.\"\n",
              "              style=\"display:none;\">\n",
              "        \n",
              "  <svg xmlns=\"http://www.w3.org/2000/svg\" height=\"24px\"viewBox=\"0 0 24 24\"\n",
              "       width=\"24px\">\n",
              "    <path d=\"M0 0h24v24H0V0z\" fill=\"none\"/>\n",
              "    <path d=\"M18.56 5.44l.94 2.06.94-2.06 2.06-.94-2.06-.94-.94-2.06-.94 2.06-2.06.94zm-11 1L8.5 8.5l.94-2.06 2.06-.94-2.06-.94L8.5 2.5l-.94 2.06-2.06.94zm10 10l.94 2.06.94-2.06 2.06-.94-2.06-.94-.94-2.06-.94 2.06-2.06.94z\"/><path d=\"M17.41 7.96l-1.37-1.37c-.4-.4-.92-.59-1.43-.59-.52 0-1.04.2-1.43.59L10.3 9.45l-7.72 7.72c-.78.78-.78 2.05 0 2.83L4 21.41c.39.39.9.59 1.41.59.51 0 1.02-.2 1.41-.59l7.78-7.78 2.81-2.81c.8-.78.8-2.07 0-2.86zM5.41 20L4 18.59l7.72-7.72 1.47 1.35L5.41 20z\"/>\n",
              "  </svg>\n",
              "      </button>\n",
              "      \n",
              "  <style>\n",
              "    .colab-df-container {\n",
              "      display:flex;\n",
              "      flex-wrap:wrap;\n",
              "      gap: 12px;\n",
              "    }\n",
              "\n",
              "    .colab-df-convert {\n",
              "      background-color: #E8F0FE;\n",
              "      border: none;\n",
              "      border-radius: 50%;\n",
              "      cursor: pointer;\n",
              "      display: none;\n",
              "      fill: #1967D2;\n",
              "      height: 32px;\n",
              "      padding: 0 0 0 0;\n",
              "      width: 32px;\n",
              "    }\n",
              "\n",
              "    .colab-df-convert:hover {\n",
              "      background-color: #E2EBFA;\n",
              "      box-shadow: 0px 1px 2px rgba(60, 64, 67, 0.3), 0px 1px 3px 1px rgba(60, 64, 67, 0.15);\n",
              "      fill: #174EA6;\n",
              "    }\n",
              "\n",
              "    [theme=dark] .colab-df-convert {\n",
              "      background-color: #3B4455;\n",
              "      fill: #D2E3FC;\n",
              "    }\n",
              "\n",
              "    [theme=dark] .colab-df-convert:hover {\n",
              "      background-color: #434B5C;\n",
              "      box-shadow: 0px 1px 3px 1px rgba(0, 0, 0, 0.15);\n",
              "      filter: drop-shadow(0px 1px 2px rgba(0, 0, 0, 0.3));\n",
              "      fill: #FFFFFF;\n",
              "    }\n",
              "  </style>\n",
              "\n",
              "      <script>\n",
              "        const buttonEl =\n",
              "          document.querySelector('#df-c2fc1ea7-1a32-4a55-be07-9de420333db9 button.colab-df-convert');\n",
              "        buttonEl.style.display =\n",
              "          google.colab.kernel.accessAllowed ? 'block' : 'none';\n",
              "\n",
              "        async function convertToInteractive(key) {\n",
              "          const element = document.querySelector('#df-c2fc1ea7-1a32-4a55-be07-9de420333db9');\n",
              "          const dataTable =\n",
              "            await google.colab.kernel.invokeFunction('convertToInteractive',\n",
              "                                                     [key], {});\n",
              "          if (!dataTable) return;\n",
              "\n",
              "          const docLinkHtml = 'Like what you see? Visit the ' +\n",
              "            '<a target=\"_blank\" href=https://colab.research.google.com/notebooks/data_table.ipynb>data table notebook</a>'\n",
              "            + ' to learn more about interactive tables.';\n",
              "          element.innerHTML = '';\n",
              "          dataTable['output_type'] = 'display_data';\n",
              "          await google.colab.output.renderOutput(dataTable, element);\n",
              "          const docLink = document.createElement('div');\n",
              "          docLink.innerHTML = docLinkHtml;\n",
              "          element.appendChild(docLink);\n",
              "        }\n",
              "      </script>\n",
              "    </div>\n",
              "  </div>\n",
              "  "
            ]
          },
          "metadata": {},
          "execution_count": 6
        }
      ],
      "source": [
        "df.describe()"
      ]
    },
    {
      "cell_type": "markdown",
      "metadata": {
        "_uuid": "b26b7de83485ecb3b8a0a7865a596e24527c7b2f",
        "id": "qMW_nR4CDQdp"
      },
      "source": [
        "#### Задание 5. Проверьте, есть ли в таблице пропущенные значения"
      ]
    },
    {
      "cell_type": "code",
      "execution_count": null,
      "metadata": {
        "_uuid": "4eac3f8f83d07c6e58ad1576fe0e773f37034a2f",
        "colab": {
          "base_uri": "https://localhost:8080/"
        },
        "id": "k5qTO1GODQdq",
        "outputId": "d1436d79-fe00-4da0-b9c6-375d706a343b"
      },
      "outputs": [
        {
          "output_type": "execute_result",
          "data": {
            "text/plain": [
              "gender                         0\n",
              "race/ethnicity                 0\n",
              "parental level of education    0\n",
              "lunch                          0\n",
              "test preparation course        0\n",
              "group                          0\n",
              "math score                     0\n",
              "reading score                  0\n",
              "writing score                  0\n",
              "dtype: int64"
            ]
          },
          "metadata": {},
          "execution_count": 7
        }
      ],
      "source": [
        "df.isnull().sum(axis=0)"
      ]
    },
    {
      "cell_type": "markdown",
      "metadata": {
        "id": "wgFV5ovxDQdq"
      },
      "source": [
        "#### Задание 6. Выведите на экран средние баллы студентов по каждому предмету (math, reading, writing)"
      ]
    },
    {
      "cell_type": "code",
      "execution_count": null,
      "metadata": {
        "colab": {
          "base_uri": "https://localhost:8080/"
        },
        "id": "VZbEuLVCDQdq",
        "outputId": "be52daea-d6fa-4b99-b51d-88022a972f4d"
      },
      "outputs": [
        {
          "output_type": "execute_result",
          "data": {
            "text/plain": [
              "(66.089, 69.169, 68.054)"
            ]
          },
          "metadata": {},
          "execution_count": 8
        }
      ],
      "source": [
        "df['math score'].mean(), df['reading score'].mean(), df['writing score'].mean()"
      ]
    },
    {
      "cell_type": "markdown",
      "metadata": {
        "id": "z4USxivXDQdr"
      },
      "source": [
        "**Задание 7. Как зависят оценки от того, проходил ли студент курс для подготовки к сдаче экзамена (test preparation course)? Выведите на экран для каждого предмета в отдельности средний балл студентов, проходивших курс для подготовки к экзамену и не проходивших курс.**"
      ]
    },
    {
      "cell_type": "code",
      "execution_count": null,
      "metadata": {
        "id": "8DZsVz_2DQds"
      },
      "outputs": [],
      "source": [
        "prep = df[df['test preparation course'] == 'completed']\n",
        "no_prep = df[df['test preparation course'] == 'none']\n",
        "#сначала вывожу балл тех, кто прошел, потом тех, кто не прошел "
      ]
    },
    {
      "cell_type": "code",
      "source": [
        "#maths\n",
        "prep['math score'].mean(), no_prep['math score'].mean()"
      ],
      "metadata": {
        "colab": {
          "base_uri": "https://localhost:8080/"
        },
        "id": "p1B7u5Y1tPyM",
        "outputId": "7153dc72-9da0-416d-e5ee-ad6712a10420"
      },
      "execution_count": null,
      "outputs": [
        {
          "output_type": "execute_result",
          "data": {
            "text/plain": [
              "(69.69553072625699, 64.0778816199377)"
            ]
          },
          "metadata": {},
          "execution_count": 10
        }
      ]
    },
    {
      "cell_type": "code",
      "source": [
        "#reading\n",
        "prep['reading score'].mean(), no_prep['reading score'].mean()"
      ],
      "metadata": {
        "colab": {
          "base_uri": "https://localhost:8080/"
        },
        "id": "yJp4tWUYtSQS",
        "outputId": "7b265cad-d86d-459b-953b-f8ad5f4e3545"
      },
      "execution_count": null,
      "outputs": [
        {
          "output_type": "execute_result",
          "data": {
            "text/plain": [
              "(73.89385474860335, 66.53426791277259)"
            ]
          },
          "metadata": {},
          "execution_count": 11
        }
      ]
    },
    {
      "cell_type": "code",
      "source": [
        "#writing\n",
        "prep['writing score'].mean(), no_prep['writing score'].mean()"
      ],
      "metadata": {
        "colab": {
          "base_uri": "https://localhost:8080/"
        },
        "id": "fximB_xBtWSf",
        "outputId": "e89437aa-3186-42f7-8244-fba3791fe952"
      },
      "execution_count": null,
      "outputs": [
        {
          "output_type": "execute_result",
          "data": {
            "text/plain": [
              "(74.41899441340782, 64.50467289719626)"
            ]
          },
          "metadata": {},
          "execution_count": 12
        }
      ]
    },
    {
      "cell_type": "markdown",
      "metadata": {
        "id": "scmKRIk3DQdt"
      },
      "source": [
        "**Задание 8. Выведите на экран все различные значения из столбца lunch.**"
      ]
    },
    {
      "cell_type": "code",
      "execution_count": null,
      "metadata": {
        "colab": {
          "base_uri": "https://localhost:8080/"
        },
        "id": "dm_7pCOhDQdt",
        "outputId": "723405e9-4ad9-4365-9520-40b09b4d91d4"
      },
      "outputs": [
        {
          "output_type": "execute_result",
          "data": {
            "text/plain": [
              "array(['standard', 'free/reduced'], dtype=object)"
            ]
          },
          "metadata": {},
          "execution_count": 13
        }
      ],
      "source": [
        "df.lunch.unique()"
      ]
    },
    {
      "cell_type": "markdown",
      "metadata": {
        "id": "TZX9n5-sDQdu"
      },
      "source": [
        "**Задание 9. Переименуйте колонку \"parental level of education\" в \"education\", а \"test preparation course\" в \"test preparation\" с помощью метода pandas rename**\n",
        "https://pandas.pydata.org/pandas-docs/stable/reference/api/pandas.DataFrame.rename.html"
      ]
    },
    {
      "cell_type": "code",
      "execution_count": null,
      "metadata": {
        "id": "nG09cppQDQdv"
      },
      "outputs": [],
      "source": [
        "df = df.rename(columns={\"parental level of education\": \"education\", \"test preparation course\": \"test preparation\"})"
      ]
    },
    {
      "cell_type": "markdown",
      "metadata": {
        "id": "SrrQdljeDQdv"
      },
      "source": [
        "**Зафиксируем минимальный балл для сдачи экзамена**"
      ]
    },
    {
      "cell_type": "code",
      "execution_count": null,
      "metadata": {
        "id": "Exz5apJVDQdw"
      },
      "outputs": [],
      "source": [
        "passmark = 50"
      ]
    },
    {
      "cell_type": "markdown",
      "metadata": {
        "id": "a-daYoEpDQdw"
      },
      "source": [
        "**Задание 10. Ответьте на вопросы:**\n",
        "    * Какая доля студентов сдала экзамен по математике (passmark >= 50)?\n",
        "    * Какая доля студентов, проходивших курс подготовки к экзамену, сдала экзамен по математике?\n",
        "    * Какая доля женщин, не проходивших курс подготовки к экзамену, не сдала экзамен по математике? "
      ]
    },
    {
      "cell_type": "code",
      "execution_count": null,
      "metadata": {
        "colab": {
          "base_uri": "https://localhost:8080/"
        },
        "id": "ac-pPyW_DQdx",
        "outputId": "fb583280-be21-438f-f3f8-823eb5e3884f"
      },
      "outputs": [
        {
          "output_type": "execute_result",
          "data": {
            "text/plain": [
              "0.865"
            ]
          },
          "metadata": {},
          "execution_count": 16
        }
      ],
      "source": [
        "# всего 1000 студентов, это знаем исходя из прошлого задания про размеры таблицы\n",
        "df[df['math score'] >= passmark].shape[0] / 1000"
      ]
    },
    {
      "cell_type": "code",
      "source": [
        "prep[prep['math score'] >= passmark].shape[0] / prep.shape[0]"
      ],
      "metadata": {
        "colab": {
          "base_uri": "https://localhost:8080/"
        },
        "id": "LQc0NOu_xMf6",
        "outputId": "cadf23c6-4e08-4bc7-a770-9578709a6b97"
      },
      "execution_count": null,
      "outputs": [
        {
          "output_type": "execute_result",
          "data": {
            "text/plain": [
              "0.9217877094972067"
            ]
          },
          "metadata": {},
          "execution_count": 17
        }
      ]
    },
    {
      "cell_type": "code",
      "source": [
        "women = no_prep[no_prep['gender'] == 'female']\n",
        "women[women['math score'] < passmark].shape[0] / women.shape[0]"
      ],
      "metadata": {
        "colab": {
          "base_uri": "https://localhost:8080/"
        },
        "id": "AlJYDU6pyLE9",
        "outputId": "75fdd518-5540-4675-bca0-c39e006db973"
      },
      "execution_count": null,
      "outputs": [
        {
          "output_type": "execute_result",
          "data": {
            "text/plain": [
              "0.20958083832335328"
            ]
          },
          "metadata": {},
          "execution_count": 18
        }
      ]
    },
    {
      "cell_type": "markdown",
      "metadata": {
        "id": "gWF2rHgmDQdx"
      },
      "source": [
        "**Задание 11. С помощью groupby выполните задания ниже. Также выведите время выполнения каждого из заданий.**\n",
        "    * Для каждой этнической группы выведите средний балл за экзамен по чтению\n",
        "    * Для каждого уровня образования выведите минимальный балл за экзамен по письму"
      ]
    },
    {
      "cell_type": "code",
      "execution_count": null,
      "metadata": {
        "colab": {
          "base_uri": "https://localhost:8080/"
        },
        "id": "XDLwXsGDDQdy",
        "outputId": "8c904200-c3ed-49bf-c44d-3a5941576188"
      },
      "outputs": [
        {
          "output_type": "execute_result",
          "data": {
            "text/plain": [
              "race/ethnicity\n",
              "group A    64.674157\n",
              "group B    67.352632\n",
              "group C    69.103448\n",
              "group D    70.030534\n",
              "group E    73.028571\n",
              "Name: reading score, dtype: float64"
            ]
          },
          "metadata": {},
          "execution_count": 29
        }
      ],
      "source": [
        "df.groupby(['race/ethnicity']).mean()['reading score']"
      ]
    },
    {
      "cell_type": "code",
      "source": [
        "df.groupby(['education']).min()['writing score']"
      ],
      "metadata": {
        "colab": {
          "base_uri": "https://localhost:8080/"
        },
        "id": "UiBC2aRy2uAF",
        "outputId": "c6503dac-0c2f-46bc-eb6b-afe1dbea9ced"
      },
      "execution_count": null,
      "outputs": [
        {
          "output_type": "execute_result",
          "data": {
            "text/plain": [
              "education\n",
              "associate's degree    35\n",
              "bachelor's degree     38\n",
              "high school           15\n",
              "master's degree       46\n",
              "some college          19\n",
              "some high school      10\n",
              "Name: writing score, dtype: int64"
            ]
          },
          "metadata": {},
          "execution_count": 30
        }
      ]
    },
    {
      "cell_type": "markdown",
      "metadata": {
        "id": "ZShbTOBsDQdy"
      },
      "source": [
        "**Задание 12. Выполните задание 11 с помощью циклов. Сравните время выполнения.**"
      ]
    },
    {
      "cell_type": "code",
      "execution_count": null,
      "metadata": {
        "colab": {
          "base_uri": "https://localhost:8080/"
        },
        "id": "lM18a5fhDQdy",
        "outputId": "23be82ee-cf63-4889-ad35-5cd71fae9f66"
      },
      "outputs": [
        {
          "output_type": "stream",
          "name": "stdout",
          "text": [
            "group B 67.35263157894737\n",
            "group C 69.10344827586206\n",
            "group A 64.67415730337079\n",
            "group D 70.03053435114504\n",
            "group E 73.02857142857142\n"
          ]
        }
      ],
      "source": [
        "for i in df['race/ethnicity'].unique():\n",
        "  df1 = df[df['race/ethnicity'] == i]\n",
        "  print(i + \" \" + str(df1['reading score'].mean()))"
      ]
    },
    {
      "cell_type": "code",
      "source": [
        "for i in df.education.unique():\n",
        "  df1 = df[df['education'] == i]\n",
        "  print(i + \"    \" + str(df1['writing score'].min()))"
      ],
      "metadata": {
        "colab": {
          "base_uri": "https://localhost:8080/"
        },
        "id": "8Y3HqARk6NqI",
        "outputId": "cc98bb0f-a0bd-43d5-a4f5-0ac6452df38b"
      },
      "execution_count": null,
      "outputs": [
        {
          "output_type": "stream",
          "name": "stdout",
          "text": [
            "bachelor's degree    38\n",
            "some college    19\n",
            "master's degree    46\n",
            "associate's degree    35\n",
            "high school    15\n",
            "some high school    10\n"
          ]
        }
      ]
    },
    {
      "cell_type": "markdown",
      "source": [
        "12 задание, что не удивительно, делалось дольше!"
      ],
      "metadata": {
        "id": "7GkKlKO662qG"
      }
    },
    {
      "cell_type": "markdown",
      "metadata": {
        "id": "jARSujnwDQdy"
      },
      "source": [
        "**Задание 13. Выведите на экран средние баллы студентов по каждому предмету в зависимости от пола и уровня образования. То есть должно получиться количество групп, равных 2 * (число уровней образования), и для каждой такой группы выыведите средний балл по каждому из предметов.**\n",
        "\n",
        "Это можно сделать с помощью сводных таблиц (pivot_table):\n",
        "\n",
        "https://www.kaggle.com/kamilpolak/tutorial-how-to-use-pivot-table-in-pandas"
      ]
    },
    {
      "cell_type": "code",
      "execution_count": null,
      "metadata": {
        "colab": {
          "base_uri": "https://localhost:8080/",
          "height": 457
        },
        "id": "D-czt1zJDQdz",
        "outputId": "24067441-1457-4658-f152-d105658c5954"
      },
      "outputs": [
        {
          "output_type": "execute_result",
          "data": {
            "text/plain": [
              "                           math score  reading score  writing score\n",
              "gender education                                                   \n",
              "female associate's degree   65.250000      74.120690      74.000000\n",
              "       bachelor's degree    68.349206      77.285714      78.380952\n",
              "       high school          59.351064      68.202128      66.691489\n",
              "       master's degree      66.500000      76.805556      77.638889\n",
              "       some college         65.406780      73.550847      74.050847\n",
              "       some high school     59.296703      69.109890      68.285714\n",
              "male   associate's degree   70.764151      67.433962      65.405660\n",
              "       bachelor's degree    70.581818      68.090909      67.654545\n",
              "       high school          64.705882      61.480392      58.539216\n",
              "       master's degree      74.826087      73.130435      72.608696\n",
              "       some college         69.009259      64.990741      63.148148\n",
              "       some high school     67.840909      64.693182      61.375000"
            ],
            "text/html": [
              "\n",
              "  <div id=\"df-c9721ef7-2411-4648-b242-66e5750480aa\">\n",
              "    <div class=\"colab-df-container\">\n",
              "      <div>\n",
              "<style scoped>\n",
              "    .dataframe tbody tr th:only-of-type {\n",
              "        vertical-align: middle;\n",
              "    }\n",
              "\n",
              "    .dataframe tbody tr th {\n",
              "        vertical-align: top;\n",
              "    }\n",
              "\n",
              "    .dataframe thead th {\n",
              "        text-align: right;\n",
              "    }\n",
              "</style>\n",
              "<table border=\"1\" class=\"dataframe\">\n",
              "  <thead>\n",
              "    <tr style=\"text-align: right;\">\n",
              "      <th></th>\n",
              "      <th></th>\n",
              "      <th>math score</th>\n",
              "      <th>reading score</th>\n",
              "      <th>writing score</th>\n",
              "    </tr>\n",
              "    <tr>\n",
              "      <th>gender</th>\n",
              "      <th>education</th>\n",
              "      <th></th>\n",
              "      <th></th>\n",
              "      <th></th>\n",
              "    </tr>\n",
              "  </thead>\n",
              "  <tbody>\n",
              "    <tr>\n",
              "      <th rowspan=\"6\" valign=\"top\">female</th>\n",
              "      <th>associate's degree</th>\n",
              "      <td>65.250000</td>\n",
              "      <td>74.120690</td>\n",
              "      <td>74.000000</td>\n",
              "    </tr>\n",
              "    <tr>\n",
              "      <th>bachelor's degree</th>\n",
              "      <td>68.349206</td>\n",
              "      <td>77.285714</td>\n",
              "      <td>78.380952</td>\n",
              "    </tr>\n",
              "    <tr>\n",
              "      <th>high school</th>\n",
              "      <td>59.351064</td>\n",
              "      <td>68.202128</td>\n",
              "      <td>66.691489</td>\n",
              "    </tr>\n",
              "    <tr>\n",
              "      <th>master's degree</th>\n",
              "      <td>66.500000</td>\n",
              "      <td>76.805556</td>\n",
              "      <td>77.638889</td>\n",
              "    </tr>\n",
              "    <tr>\n",
              "      <th>some college</th>\n",
              "      <td>65.406780</td>\n",
              "      <td>73.550847</td>\n",
              "      <td>74.050847</td>\n",
              "    </tr>\n",
              "    <tr>\n",
              "      <th>some high school</th>\n",
              "      <td>59.296703</td>\n",
              "      <td>69.109890</td>\n",
              "      <td>68.285714</td>\n",
              "    </tr>\n",
              "    <tr>\n",
              "      <th rowspan=\"6\" valign=\"top\">male</th>\n",
              "      <th>associate's degree</th>\n",
              "      <td>70.764151</td>\n",
              "      <td>67.433962</td>\n",
              "      <td>65.405660</td>\n",
              "    </tr>\n",
              "    <tr>\n",
              "      <th>bachelor's degree</th>\n",
              "      <td>70.581818</td>\n",
              "      <td>68.090909</td>\n",
              "      <td>67.654545</td>\n",
              "    </tr>\n",
              "    <tr>\n",
              "      <th>high school</th>\n",
              "      <td>64.705882</td>\n",
              "      <td>61.480392</td>\n",
              "      <td>58.539216</td>\n",
              "    </tr>\n",
              "    <tr>\n",
              "      <th>master's degree</th>\n",
              "      <td>74.826087</td>\n",
              "      <td>73.130435</td>\n",
              "      <td>72.608696</td>\n",
              "    </tr>\n",
              "    <tr>\n",
              "      <th>some college</th>\n",
              "      <td>69.009259</td>\n",
              "      <td>64.990741</td>\n",
              "      <td>63.148148</td>\n",
              "    </tr>\n",
              "    <tr>\n",
              "      <th>some high school</th>\n",
              "      <td>67.840909</td>\n",
              "      <td>64.693182</td>\n",
              "      <td>61.375000</td>\n",
              "    </tr>\n",
              "  </tbody>\n",
              "</table>\n",
              "</div>\n",
              "      <button class=\"colab-df-convert\" onclick=\"convertToInteractive('df-c9721ef7-2411-4648-b242-66e5750480aa')\"\n",
              "              title=\"Convert this dataframe to an interactive table.\"\n",
              "              style=\"display:none;\">\n",
              "        \n",
              "  <svg xmlns=\"http://www.w3.org/2000/svg\" height=\"24px\"viewBox=\"0 0 24 24\"\n",
              "       width=\"24px\">\n",
              "    <path d=\"M0 0h24v24H0V0z\" fill=\"none\"/>\n",
              "    <path d=\"M18.56 5.44l.94 2.06.94-2.06 2.06-.94-2.06-.94-.94-2.06-.94 2.06-2.06.94zm-11 1L8.5 8.5l.94-2.06 2.06-.94-2.06-.94L8.5 2.5l-.94 2.06-2.06.94zm10 10l.94 2.06.94-2.06 2.06-.94-2.06-.94-.94-2.06-.94 2.06-2.06.94z\"/><path d=\"M17.41 7.96l-1.37-1.37c-.4-.4-.92-.59-1.43-.59-.52 0-1.04.2-1.43.59L10.3 9.45l-7.72 7.72c-.78.78-.78 2.05 0 2.83L4 21.41c.39.39.9.59 1.41.59.51 0 1.02-.2 1.41-.59l7.78-7.78 2.81-2.81c.8-.78.8-2.07 0-2.86zM5.41 20L4 18.59l7.72-7.72 1.47 1.35L5.41 20z\"/>\n",
              "  </svg>\n",
              "      </button>\n",
              "      \n",
              "  <style>\n",
              "    .colab-df-container {\n",
              "      display:flex;\n",
              "      flex-wrap:wrap;\n",
              "      gap: 12px;\n",
              "    }\n",
              "\n",
              "    .colab-df-convert {\n",
              "      background-color: #E8F0FE;\n",
              "      border: none;\n",
              "      border-radius: 50%;\n",
              "      cursor: pointer;\n",
              "      display: none;\n",
              "      fill: #1967D2;\n",
              "      height: 32px;\n",
              "      padding: 0 0 0 0;\n",
              "      width: 32px;\n",
              "    }\n",
              "\n",
              "    .colab-df-convert:hover {\n",
              "      background-color: #E2EBFA;\n",
              "      box-shadow: 0px 1px 2px rgba(60, 64, 67, 0.3), 0px 1px 3px 1px rgba(60, 64, 67, 0.15);\n",
              "      fill: #174EA6;\n",
              "    }\n",
              "\n",
              "    [theme=dark] .colab-df-convert {\n",
              "      background-color: #3B4455;\n",
              "      fill: #D2E3FC;\n",
              "    }\n",
              "\n",
              "    [theme=dark] .colab-df-convert:hover {\n",
              "      background-color: #434B5C;\n",
              "      box-shadow: 0px 1px 3px 1px rgba(0, 0, 0, 0.15);\n",
              "      filter: drop-shadow(0px 1px 2px rgba(0, 0, 0, 0.3));\n",
              "      fill: #FFFFFF;\n",
              "    }\n",
              "  </style>\n",
              "\n",
              "      <script>\n",
              "        const buttonEl =\n",
              "          document.querySelector('#df-c9721ef7-2411-4648-b242-66e5750480aa button.colab-df-convert');\n",
              "        buttonEl.style.display =\n",
              "          google.colab.kernel.accessAllowed ? 'block' : 'none';\n",
              "\n",
              "        async function convertToInteractive(key) {\n",
              "          const element = document.querySelector('#df-c9721ef7-2411-4648-b242-66e5750480aa');\n",
              "          const dataTable =\n",
              "            await google.colab.kernel.invokeFunction('convertToInteractive',\n",
              "                                                     [key], {});\n",
              "          if (!dataTable) return;\n",
              "\n",
              "          const docLinkHtml = 'Like what you see? Visit the ' +\n",
              "            '<a target=\"_blank\" href=https://colab.research.google.com/notebooks/data_table.ipynb>data table notebook</a>'\n",
              "            + ' to learn more about interactive tables.';\n",
              "          element.innerHTML = '';\n",
              "          dataTable['output_type'] = 'display_data';\n",
              "          await google.colab.output.renderOutput(dataTable, element);\n",
              "          const docLink = document.createElement('div');\n",
              "          docLink.innerHTML = docLinkHtml;\n",
              "          element.appendChild(docLink);\n",
              "        }\n",
              "      </script>\n",
              "    </div>\n",
              "  </div>\n",
              "  "
            ]
          },
          "metadata": {},
          "execution_count": 23
        }
      ],
      "source": [
        "grouped = pd.pivot_table(df,index=['gender','education'])\n",
        "grouped"
      ]
    },
    {
      "cell_type": "markdown",
      "metadata": {
        "_uuid": "3e832cb427c4314582d1953a41b8c78db75e30e3",
        "id": "sHfoUuVXDQdz"
      },
      "source": [
        "#### Задание 14. Сколько студентов успешно сдали экзамен по математике?\n",
        "\n",
        "Создайте новый столбец в таблице df под названием Math_PassStatus и запишите в него F, если студент не сдал экзамен по математике (балл за экзамен < passmark), и P иначе.\n",
        "\n",
        "Посчитайте количество студентов, сдавших и не сдавших экзамен по математике.\n",
        "\n",
        "Сделайте аналогичные шаги для экзаменов по чтению и письму."
      ]
    },
    {
      "cell_type": "code",
      "execution_count": null,
      "metadata": {
        "_uuid": "f43cddb72cc96b30df84bc0de83a4d9170904340",
        "colab": {
          "base_uri": "https://localhost:8080/"
        },
        "id": "yHsvBu0KDQdz",
        "outputId": "0671d2e7-0fe7-47c0-8d5f-c006597856ff"
      },
      "outputs": [
        {
          "output_type": "execute_result",
          "data": {
            "text/plain": [
              "(865, 135)"
            ]
          },
          "metadata": {},
          "execution_count": 24
        }
      ],
      "source": [
        "df['Math_PassStatus'] = np.where(df['math score'] >= passmark, 'P', 'F')\n",
        "df[df['Math_PassStatus'] == 'P'].shape[0], df[df['Math_PassStatus'] == 'F'].shape[0]"
      ]
    },
    {
      "cell_type": "code",
      "source": [
        "df['Reading_PassStatus'] = np.where(df['reading score'] >= passmark, 'P', 'F')\n",
        "df[df['Reading_PassStatus'] == 'P'].shape[0], df[df['Reading_PassStatus'] == 'F'].shape[0]"
      ],
      "metadata": {
        "colab": {
          "base_uri": "https://localhost:8080/"
        },
        "id": "Lhh-LSXM-yn-",
        "outputId": "fe2ccd91-b43d-4d1d-a333-23cc2076dd08"
      },
      "execution_count": null,
      "outputs": [
        {
          "output_type": "execute_result",
          "data": {
            "text/plain": [
              "(910, 90)"
            ]
          },
          "metadata": {},
          "execution_count": 25
        }
      ]
    },
    {
      "cell_type": "code",
      "source": [
        "df['Writing_PassStatus'] = np.where(df['writing score'] >= passmark, 'P', 'F')\n",
        "df[df['Writing_PassStatus'] == 'P'].shape[0], df[df['Writing_PassStatus'] == 'F'].shape[0]"
      ],
      "metadata": {
        "colab": {
          "base_uri": "https://localhost:8080/"
        },
        "id": "mdJ2xElU-4EX",
        "outputId": "5c7d206a-1be5-43c0-fb70-ebe2b4c7c8b4"
      },
      "execution_count": null,
      "outputs": [
        {
          "output_type": "execute_result",
          "data": {
            "text/plain": [
              "(886, 114)"
            ]
          },
          "metadata": {},
          "execution_count": 26
        }
      ]
    },
    {
      "cell_type": "markdown",
      "metadata": {
        "_uuid": "b753c90914ee65501e2ed263ea614d88a381c472",
        "id": "wTpF7m0rDQdz"
      },
      "source": [
        "#### Задание 15. Сколько студентов успешно сдали все экзамены?\n",
        "\n",
        "Создайте столбец OverAll_PassStatus и запишите в него для каждого студента 'F', если студент не сдал хотя бы один из трех экзаменов, а иначе 'P'.\n",
        "\n",
        "Посчитайте количество студентов, которые сдали все экзамены."
      ]
    },
    {
      "cell_type": "code",
      "execution_count": null,
      "metadata": {
        "_uuid": "e98f895a022b967cab801447b616222439fe9d84",
        "colab": {
          "base_uri": "https://localhost:8080/"
        },
        "id": "lk9S0ckQDQd2",
        "outputId": "6a56ab12-6f25-49e9-c9c7-23c98836b15b"
      },
      "outputs": [
        {
          "output_type": "execute_result",
          "data": {
            "text/plain": [
              "812"
            ]
          },
          "metadata": {},
          "execution_count": 27
        }
      ],
      "source": [
        "df['OverAll_PassStatus'] = np.where((df['Math_PassStatus'] == 'P') & (df['Reading_PassStatus'] == 'P') & (df['Writing_PassStatus'] == 'P'), 'P', 'F')\n",
        "df[df['OverAll_PassStatus'] == 'P'].shape[0]"
      ]
    },
    {
      "cell_type": "markdown",
      "metadata": {
        "_uuid": "3af9c6cb4cbfff66d4ae09509f10b8b6ce33075d",
        "id": "D-9Kj2g2DQd2"
      },
      "source": [
        "#### Задание 16. Переведем баллы в оценки\n",
        "\n",
        "### Система перевода баллов в оценки\n",
        "####    больше 90 = A\n",
        "####      80-90 = B\n",
        "####      70-80 = C\n",
        "####      60-70 = D\n",
        "####      50-60 = E\n",
        "####    меньше 50 = F (Fail)\n",
        "\n",
        "Создайте вспомогательную функцию, которая будет по среднему баллу за три экзамена выставлять оценку студенту по данным выше критериям.\n",
        "\n",
        "Создайте столбец Grade и запишите в него оценку каждого студента.\n",
        "\n",
        "Выведите количество студентов, получивших каждую из оценок.\n",
        "\n",
        "**В случае, если средний балл попадает на границу между оценками (т.е. равен ровно 60, 70 или 80 баллов), вы можете интерпретировать условие на своё усмотрение (т.е. можете поставить за 60 баллов оценку D, а можете - E).**"
      ]
    },
    {
      "cell_type": "code",
      "execution_count": null,
      "metadata": {
        "_uuid": "04707c5be4237020b906d2ac705a0db3d620506f",
        "id": "NaGzpjPtDQd3",
        "colab": {
          "base_uri": "https://localhost:8080/"
        },
        "outputId": "2653ff71-770e-4511-9040-f4484b3033c3"
      },
      "outputs": [
        {
          "output_type": "stream",
          "name": "stderr",
          "text": [
            "<ipython-input-28-faee094aef26>:18: SettingWithCopyWarning: \n",
            "A value is trying to be set on a copy of a slice from a DataFrame\n",
            "\n",
            "See the caveats in the documentation: https://pandas.pydata.org/pandas-docs/stable/user_guide/indexing.html#returning-a-view-versus-a-copy\n",
            "  df['Grade'][i] = GetGrade(df['Grade'][i])\n",
            "/usr/local/lib/python3.8/dist-packages/pandas/core/indexing.py:1732: SettingWithCopyWarning: \n",
            "A value is trying to be set on a copy of a slice from a DataFrame\n",
            "\n",
            "See the caveats in the documentation: https://pandas.pydata.org/pandas-docs/stable/user_guide/indexing.html#returning-a-view-versus-a-copy\n",
            "  self._setitem_single_block(indexer, value, name)\n"
          ]
        },
        {
          "output_type": "execute_result",
          "data": {
            "text/plain": [
              "Grade\n",
              "A     50\n",
              "B    144\n",
              "C    253\n",
              "D    260\n",
              "E    184\n",
              "F    109\n",
              "Name: gender, dtype: int64"
            ]
          },
          "metadata": {},
          "execution_count": 28
        }
      ],
      "source": [
        "def GetGrade(average_mark):\n",
        "    if average_mark <= 50:\n",
        "      return 'F'\n",
        "    elif average_mark <= 60:\n",
        "      return 'E'\n",
        "    elif average_mark <= 70:\n",
        "      return 'D'\n",
        "    elif average_mark <= 80:\n",
        "      return 'C'\n",
        "    elif average_mark <= 90:\n",
        "      return 'B'\n",
        "    else:\n",
        "      return 'A'\n",
        "df['Grade'] = (df['math score'] + df['reading score'] + df['writing score']) / 3\n",
        "df.reset_index(drop= True , inplace= True )\n",
        "\n",
        "for i in range(len(df['Grade'])):\n",
        "  df['Grade'][i] = GetGrade(df['Grade'][i]) \n",
        "\n",
        "df.groupby(['Grade'])['gender'].count()\n"
      ]
    }
  ],
  "metadata": {
    "kernelspec": {
      "display_name": "Python 3 (ipykernel)",
      "language": "python",
      "name": "python3"
    },
    "language_info": {
      "codemirror_mode": {
        "name": "ipython",
        "version": 3
      },
      "file_extension": ".py",
      "mimetype": "text/x-python",
      "name": "python",
      "nbconvert_exporter": "python",
      "pygments_lexer": "ipython3",
      "version": "3.7.9"
    },
    "colab": {
      "provenance": []
    }
  },
  "nbformat": 4,
  "nbformat_minor": 0
}